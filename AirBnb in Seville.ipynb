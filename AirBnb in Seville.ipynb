{
 "cells": [
  {
   "cell_type": "markdown",
   "metadata": {},
   "source": [
    "# Some insights about Airbnb apartments in Seville, Spain\n",
    "The purpose of this notebook is to analyse airbnb data of the city of Seville, Spain.\n",
    "Throughout the notebook I'm going to answer three questions:\n",
    "1. What are the neighbourhoods with more Airbnb apartments?\n",
    "2. Which are the neighbourhoods with the mean apartment price more expensive?\n",
    "3. How many Airbnb apartments are there inside the area (1000m) around principal monuments? \n"
   ]
  },
  {
   "cell_type": "markdown",
   "metadata": {},
   "source": [
    "As usual we start importing modules"
   ]
  },
  {
   "cell_type": "code",
   "execution_count": 27,
   "metadata": {},
   "outputs": [],
   "source": [
    "import pandas as pd\n",
    "import numpy as np\n",
    "import seaborn as sns\n",
    "import matplotlib.pyplot as plt\n",
    "import warnings\n",
    "warnings.filterwarnings('ignore')\n",
    "from shapely.geometry import Point\n",
    "from shapely.geometry import Polygon\n",
    "import pyproj"
   ]
  },
  {
   "cell_type": "code",
   "execution_count": 2,
   "metadata": {},
   "outputs": [],
   "source": [
    "# Loading data\n",
    "# Data source: http://insideairbnb.com/get-the-data.html\n",
    "\n",
    "df = pd.read_csv('listings_summary.csv')"
   ]
  },
  {
   "cell_type": "code",
   "execution_count": 3,
   "metadata": {},
   "outputs": [
    {
     "data": {
      "text/html": [
       "<div>\n",
       "<style scoped>\n",
       "    .dataframe tbody tr th:only-of-type {\n",
       "        vertical-align: middle;\n",
       "    }\n",
       "\n",
       "    .dataframe tbody tr th {\n",
       "        vertical-align: top;\n",
       "    }\n",
       "\n",
       "    .dataframe thead th {\n",
       "        text-align: right;\n",
       "    }\n",
       "</style>\n",
       "<table border=\"1\" class=\"dataframe\">\n",
       "  <thead>\n",
       "    <tr style=\"text-align: right;\">\n",
       "      <th></th>\n",
       "      <th>id</th>\n",
       "      <th>name</th>\n",
       "      <th>host_id</th>\n",
       "      <th>host_name</th>\n",
       "      <th>neighbourhood_group</th>\n",
       "      <th>neighbourhood</th>\n",
       "      <th>latitude</th>\n",
       "      <th>longitude</th>\n",
       "      <th>room_type</th>\n",
       "      <th>price</th>\n",
       "      <th>minimum_nights</th>\n",
       "      <th>number_of_reviews</th>\n",
       "      <th>last_review</th>\n",
       "      <th>reviews_per_month</th>\n",
       "      <th>calculated_host_listings_count</th>\n",
       "      <th>availability_365</th>\n",
       "    </tr>\n",
       "  </thead>\n",
       "  <tbody>\n",
       "    <tr>\n",
       "      <th>0</th>\n",
       "      <td>32347</td>\n",
       "      <td>Explore Cultural Sights from a Family-Friendly...</td>\n",
       "      <td>139939</td>\n",
       "      <td>Alejandro</td>\n",
       "      <td>Casco Antiguo</td>\n",
       "      <td>San Vicente</td>\n",
       "      <td>37.39468</td>\n",
       "      <td>-6.00183</td>\n",
       "      <td>Entire home/apt</td>\n",
       "      <td>99</td>\n",
       "      <td>2</td>\n",
       "      <td>153</td>\n",
       "      <td>2019-09-26</td>\n",
       "      <td>1.44</td>\n",
       "      <td>1</td>\n",
       "      <td>242</td>\n",
       "    </tr>\n",
       "    <tr>\n",
       "      <th>1</th>\n",
       "      <td>49287</td>\n",
       "      <td>BEAUTIFUL APARTMENT IN SEVILLE</td>\n",
       "      <td>224697</td>\n",
       "      <td>Walter</td>\n",
       "      <td>Casco Antiguo</td>\n",
       "      <td>Feria</td>\n",
       "      <td>37.39855</td>\n",
       "      <td>-5.99365</td>\n",
       "      <td>Entire home/apt</td>\n",
       "      <td>49</td>\n",
       "      <td>3</td>\n",
       "      <td>38</td>\n",
       "      <td>2019-08-18</td>\n",
       "      <td>0.36</td>\n",
       "      <td>1</td>\n",
       "      <td>236</td>\n",
       "    </tr>\n",
       "    <tr>\n",
       "      <th>2</th>\n",
       "      <td>94187</td>\n",
       "      <td>(2) ROOM + PRIVATE BATHROOM. CASA DEL BUEN VIAJE</td>\n",
       "      <td>503692</td>\n",
       "      <td>Margot</td>\n",
       "      <td>Casco Antiguo</td>\n",
       "      <td>San Bartolomé</td>\n",
       "      <td>37.39012</td>\n",
       "      <td>-5.98676</td>\n",
       "      <td>Private room</td>\n",
       "      <td>55</td>\n",
       "      <td>2</td>\n",
       "      <td>75</td>\n",
       "      <td>2019-06-05</td>\n",
       "      <td>0.77</td>\n",
       "      <td>5</td>\n",
       "      <td>354</td>\n",
       "    </tr>\n",
       "    <tr>\n",
       "      <th>3</th>\n",
       "      <td>108236</td>\n",
       "      <td>Sunny apt in heart of seville!!</td>\n",
       "      <td>560040</td>\n",
       "      <td>Pepe</td>\n",
       "      <td>Casco Antiguo</td>\n",
       "      <td>San Vicente</td>\n",
       "      <td>37.39645</td>\n",
       "      <td>-5.99887</td>\n",
       "      <td>Entire home/apt</td>\n",
       "      <td>58</td>\n",
       "      <td>2</td>\n",
       "      <td>141</td>\n",
       "      <td>2019-09-27</td>\n",
       "      <td>1.38</td>\n",
       "      <td>2</td>\n",
       "      <td>97</td>\n",
       "    </tr>\n",
       "    <tr>\n",
       "      <th>4</th>\n",
       "      <td>108568</td>\n",
       "      <td>TERRACE ALAME WIFI PARKING DOWNTOWN</td>\n",
       "      <td>589600</td>\n",
       "      <td>Miguel</td>\n",
       "      <td>Casco Antiguo</td>\n",
       "      <td>Feria</td>\n",
       "      <td>37.39939</td>\n",
       "      <td>-5.99237</td>\n",
       "      <td>Entire home/apt</td>\n",
       "      <td>65</td>\n",
       "      <td>3</td>\n",
       "      <td>80</td>\n",
       "      <td>2019-09-15</td>\n",
       "      <td>0.82</td>\n",
       "      <td>11</td>\n",
       "      <td>152</td>\n",
       "    </tr>\n",
       "  </tbody>\n",
       "</table>\n",
       "</div>"
      ],
      "text/plain": [
       "       id                                               name  host_id  \\\n",
       "0   32347  Explore Cultural Sights from a Family-Friendly...   139939   \n",
       "1   49287                     BEAUTIFUL APARTMENT IN SEVILLE   224697   \n",
       "2   94187   (2) ROOM + PRIVATE BATHROOM. CASA DEL BUEN VIAJE   503692   \n",
       "3  108236                    Sunny apt in heart of seville!!   560040   \n",
       "4  108568                TERRACE ALAME WIFI PARKING DOWNTOWN   589600   \n",
       "\n",
       "   host_name neighbourhood_group  neighbourhood  latitude  longitude  \\\n",
       "0  Alejandro       Casco Antiguo    San Vicente  37.39468   -6.00183   \n",
       "1     Walter       Casco Antiguo          Feria  37.39855   -5.99365   \n",
       "2     Margot       Casco Antiguo  San Bartolomé  37.39012   -5.98676   \n",
       "3       Pepe       Casco Antiguo    San Vicente  37.39645   -5.99887   \n",
       "4     Miguel       Casco Antiguo          Feria  37.39939   -5.99237   \n",
       "\n",
       "         room_type  price  minimum_nights  number_of_reviews last_review  \\\n",
       "0  Entire home/apt     99               2                153  2019-09-26   \n",
       "1  Entire home/apt     49               3                 38  2019-08-18   \n",
       "2     Private room     55               2                 75  2019-06-05   \n",
       "3  Entire home/apt     58               2                141  2019-09-27   \n",
       "4  Entire home/apt     65               3                 80  2019-09-15   \n",
       "\n",
       "   reviews_per_month  calculated_host_listings_count  availability_365  \n",
       "0               1.44                               1               242  \n",
       "1               0.36                               1               236  \n",
       "2               0.77                               5               354  \n",
       "3               1.38                               2                97  \n",
       "4               0.82                              11               152  "
      ]
     },
     "execution_count": 3,
     "metadata": {},
     "output_type": "execute_result"
    }
   ],
   "source": [
    "df.head()"
   ]
  },
  {
   "cell_type": "code",
   "execution_count": 4,
   "metadata": {},
   "outputs": [
    {
     "data": {
      "text/plain": [
       "id                                  0\n",
       "name                                0\n",
       "host_id                             0\n",
       "host_name                           0\n",
       "neighbourhood_group                 0\n",
       "neighbourhood                       0\n",
       "latitude                            0\n",
       "longitude                           0\n",
       "room_type                           0\n",
       "price                               0\n",
       "minimum_nights                      0\n",
       "number_of_reviews                   0\n",
       "last_review                       674\n",
       "reviews_per_month                 674\n",
       "calculated_host_listings_count      0\n",
       "availability_365                    0\n",
       "dtype: int64"
      ]
     },
     "execution_count": 4,
     "metadata": {},
     "output_type": "execute_result"
    }
   ],
   "source": [
    "# Checking nulls\n",
    "df.isnull().sum()"
   ]
  },
  {
   "cell_type": "markdown",
   "metadata": {},
   "source": [
    "There are only 2 columns with nulls: last_review and reviews_per_month. We can drop this columns because they don't have important information for the questions we want to answer "
   ]
  },
  {
   "cell_type": "code",
   "execution_count": 5,
   "metadata": {},
   "outputs": [],
   "source": [
    "df.drop(labels=['last_review','reviews_per_month'], axis=1, inplace=True)"
   ]
  },
  {
   "cell_type": "markdown",
   "metadata": {},
   "source": [
    "We check again nulls to ensure all is ok"
   ]
  },
  {
   "cell_type": "code",
   "execution_count": 6,
   "metadata": {},
   "outputs": [
    {
     "data": {
      "text/plain": [
       "id                                0\n",
       "name                              0\n",
       "host_id                           0\n",
       "host_name                         0\n",
       "neighbourhood_group               0\n",
       "neighbourhood                     0\n",
       "latitude                          0\n",
       "longitude                         0\n",
       "room_type                         0\n",
       "price                             0\n",
       "minimum_nights                    0\n",
       "number_of_reviews                 0\n",
       "calculated_host_listings_count    0\n",
       "availability_365                  0\n",
       "dtype: int64"
      ]
     },
     "execution_count": 6,
     "metadata": {},
     "output_type": "execute_result"
    }
   ],
   "source": [
    "df.isnull().sum()"
   ]
  },
  {
   "cell_type": "markdown",
   "metadata": {},
   "source": [
    "Let's answer the first question:\n",
    "#### 1. What are the neighbourhoods with more Airbnb apartments?"
   ]
  },
  {
   "cell_type": "code",
   "execution_count": 10,
   "metadata": {},
   "outputs": [
    {
     "data": {
      "image/png": "[encoded data removed]",
      "text/plain": [
       "<Figure size 432x288 with 1 Axes>"
      ]
     },
     "metadata": {
      "needs_background": "light"
     },
     "output_type": "display_data"
    }
   ],
   "source": [
    "\n",
    "x1=df['neighbourhood'].value_counts()[:10].index\n",
    "y1=df['neighbourhood'].value_counts()[:10].values\n",
    "plt.title('Number of apartments by Neighbourhood')\n",
    "\n",
    "ax1 = sns.barplot(x1, y1, palette='Blues_r')\n",
    "\n",
    "ax1.set_xticklabels(labels=x1,rotation=80);"
   ]
  },
  {
   "cell_type": "markdown",
   "metadata": {},
   "source": [
    "Let's explore the data to answer the second question:\n",
    "#### 2. Which are the neighbourhoods with the mean apartment price more expensive?"
   ]
  },
  {
   "cell_type": "code",
   "execution_count": 11,
   "metadata": {},
   "outputs": [],
   "source": [
    "# Creating a new dataframe only with the columns 'neighbourhood' and 'price'\n",
    "price_df = df[['neighbourhood','price']]"
   ]
  },
  {
   "cell_type": "code",
   "execution_count": 12,
   "metadata": {},
   "outputs": [
    {
     "data": {
      "text/html": [
       "<div>\n",
       "<style scoped>\n",
       "    .dataframe tbody tr th:only-of-type {\n",
       "        vertical-align: middle;\n",
       "    }\n",
       "\n",
       "    .dataframe tbody tr th {\n",
       "        vertical-align: top;\n",
       "    }\n",
       "\n",
       "    .dataframe thead th {\n",
       "        text-align: right;\n",
       "    }\n",
       "</style>\n",
       "<table border=\"1\" class=\"dataframe\">\n",
       "  <thead>\n",
       "    <tr style=\"text-align: right;\">\n",
       "      <th></th>\n",
       "      <th>price</th>\n",
       "    </tr>\n",
       "    <tr>\n",
       "      <th>neighbourhood</th>\n",
       "      <th></th>\n",
       "    </tr>\n",
       "  </thead>\n",
       "  <tbody>\n",
       "    <tr>\n",
       "      <th>Prado, Parque María Luisa</th>\n",
       "      <td>202.400000</td>\n",
       "    </tr>\n",
       "    <tr>\n",
       "      <th>Arenal</th>\n",
       "      <td>186.486200</td>\n",
       "    </tr>\n",
       "    <tr>\n",
       "      <th>no asignado</th>\n",
       "      <td>167.625000</td>\n",
       "    </tr>\n",
       "    <tr>\n",
       "      <th>Parque Alcosa</th>\n",
       "      <td>163.333333</td>\n",
       "    </tr>\n",
       "    <tr>\n",
       "      <th>Santa Cruz</th>\n",
       "      <td>160.206522</td>\n",
       "    </tr>\n",
       "    <tr>\n",
       "      <th>Museo</th>\n",
       "      <td>151.202381</td>\n",
       "    </tr>\n",
       "    <tr>\n",
       "      <th>El Porvenir</th>\n",
       "      <td>141.947368</td>\n",
       "    </tr>\n",
       "    <tr>\n",
       "      <th>Alfalfa</th>\n",
       "      <td>134.263393</td>\n",
       "    </tr>\n",
       "    <tr>\n",
       "      <th>Encarnación, Regina</th>\n",
       "      <td>122.750663</td>\n",
       "    </tr>\n",
       "    <tr>\n",
       "      <th>San Bartolomé</th>\n",
       "      <td>109.274232</td>\n",
       "    </tr>\n",
       "  </tbody>\n",
       "</table>\n",
       "</div>"
      ],
      "text/plain": [
       "                                price\n",
       "neighbourhood                        \n",
       "Prado, Parque María Luisa  202.400000\n",
       "Arenal                     186.486200\n",
       "no asignado                167.625000\n",
       "Parque Alcosa              163.333333\n",
       "Santa Cruz                 160.206522\n",
       "Museo                      151.202381\n",
       "El Porvenir                141.947368\n",
       "Alfalfa                    134.263393\n",
       "Encarnación, Regina        122.750663\n",
       "San Bartolomé              109.274232"
      ]
     },
     "execution_count": 12,
     "metadata": {},
     "output_type": "execute_result"
    }
   ],
   "source": [
    "# mean price by neighbourhood\n",
    "price_by_nei = price_df.groupby('neighbourhood').mean().sort_values('price', ascending=False)[:10]\n",
    "price_by_nei"
   ]
  },
  {
   "cell_type": "markdown",
   "metadata": {},
   "source": [
    "We see this operation returns two unexpected neighbourhood categories: 'no asignado' and 'Parque Alcosa'. The first one seems dirty data and the second one is a neighbourhood far from the center or any monument and seems that don't have sense to be in that position. Let's analyse."
   ]
  },
  {
   "cell_type": "code",
   "execution_count": 17,
   "metadata": {},
   "outputs": [
    {
     "data": {
      "text/html": [
       "<div>\n",
       "<style scoped>\n",
       "    .dataframe tbody tr th:only-of-type {\n",
       "        vertical-align: middle;\n",
       "    }\n",
       "\n",
       "    .dataframe tbody tr th {\n",
       "        vertical-align: top;\n",
       "    }\n",
       "\n",
       "    .dataframe thead th {\n",
       "        text-align: right;\n",
       "    }\n",
       "</style>\n",
       "<table border=\"1\" class=\"dataframe\">\n",
       "  <thead>\n",
       "    <tr style=\"text-align: right;\">\n",
       "      <th></th>\n",
       "      <th>neighbourhood</th>\n",
       "      <th>price</th>\n",
       "    </tr>\n",
       "  </thead>\n",
       "  <tbody>\n",
       "    <tr>\n",
       "      <th>1801</th>\n",
       "      <td>no asignado</td>\n",
       "      <td>43</td>\n",
       "    </tr>\n",
       "    <tr>\n",
       "      <th>2195</th>\n",
       "      <td>no asignado</td>\n",
       "      <td>84</td>\n",
       "    </tr>\n",
       "    <tr>\n",
       "      <th>2319</th>\n",
       "      <td>no asignado</td>\n",
       "      <td>62</td>\n",
       "    </tr>\n",
       "    <tr>\n",
       "      <th>2348</th>\n",
       "      <td>no asignado</td>\n",
       "      <td>486</td>\n",
       "    </tr>\n",
       "    <tr>\n",
       "      <th>3583</th>\n",
       "      <td>no asignado</td>\n",
       "      <td>70</td>\n",
       "    </tr>\n",
       "    <tr>\n",
       "      <th>3799</th>\n",
       "      <td>no asignado</td>\n",
       "      <td>43</td>\n",
       "    </tr>\n",
       "    <tr>\n",
       "      <th>4132</th>\n",
       "      <td>no asignado</td>\n",
       "      <td>42</td>\n",
       "    </tr>\n",
       "    <tr>\n",
       "      <th>4550</th>\n",
       "      <td>no asignado</td>\n",
       "      <td>100</td>\n",
       "    </tr>\n",
       "    <tr>\n",
       "      <th>4618</th>\n",
       "      <td>no asignado</td>\n",
       "      <td>70</td>\n",
       "    </tr>\n",
       "    <tr>\n",
       "      <th>5160</th>\n",
       "      <td>no asignado</td>\n",
       "      <td>487</td>\n",
       "    </tr>\n",
       "    <tr>\n",
       "      <th>5221</th>\n",
       "      <td>no asignado</td>\n",
       "      <td>260</td>\n",
       "    </tr>\n",
       "    <tr>\n",
       "      <th>5247</th>\n",
       "      <td>no asignado</td>\n",
       "      <td>263</td>\n",
       "    </tr>\n",
       "    <tr>\n",
       "      <th>5511</th>\n",
       "      <td>no asignado</td>\n",
       "      <td>487</td>\n",
       "    </tr>\n",
       "    <tr>\n",
       "      <th>5599</th>\n",
       "      <td>no asignado</td>\n",
       "      <td>50</td>\n",
       "    </tr>\n",
       "    <tr>\n",
       "      <th>6187</th>\n",
       "      <td>no asignado</td>\n",
       "      <td>75</td>\n",
       "    </tr>\n",
       "    <tr>\n",
       "      <th>6194</th>\n",
       "      <td>no asignado</td>\n",
       "      <td>60</td>\n",
       "    </tr>\n",
       "  </tbody>\n",
       "</table>\n",
       "</div>"
      ],
      "text/plain": [
       "     neighbourhood  price\n",
       "1801   no asignado     43\n",
       "2195   no asignado     84\n",
       "2319   no asignado     62\n",
       "2348   no asignado    486\n",
       "3583   no asignado     70\n",
       "3799   no asignado     43\n",
       "4132   no asignado     42\n",
       "4550   no asignado    100\n",
       "4618   no asignado     70\n",
       "5160   no asignado    487\n",
       "5221   no asignado    260\n",
       "5247   no asignado    263\n",
       "5511   no asignado    487\n",
       "5599   no asignado     50\n",
       "6187   no asignado     75\n",
       "6194   no asignado     60"
      ]
     },
     "execution_count": 17,
     "metadata": {},
     "output_type": "execute_result"
    }
   ],
   "source": [
    "# Analysis 'no asignado'\n",
    "price_df[price_df['neighbourhood']=='no asignado']"
   ]
  },
  {
   "cell_type": "markdown",
   "metadata": {},
   "source": [
    "Clearly is dirty data so I'm going to drop them"
   ]
  },
  {
   "cell_type": "code",
   "execution_count": 14,
   "metadata": {},
   "outputs": [],
   "source": [
    "price_df.drop(price_df[price_df['neighbourhood']=='no asignado'].index, inplace=True)"
   ]
  },
  {
   "cell_type": "markdown",
   "metadata": {},
   "source": [
    "Let's analyse 'Parque Alcosa'"
   ]
  },
  {
   "cell_type": "code",
   "execution_count": 20,
   "metadata": {},
   "outputs": [
    {
     "data": {
      "text/html": [
       "<div>\n",
       "<style scoped>\n",
       "    .dataframe tbody tr th:only-of-type {\n",
       "        vertical-align: middle;\n",
       "    }\n",
       "\n",
       "    .dataframe tbody tr th {\n",
       "        vertical-align: top;\n",
       "    }\n",
       "\n",
       "    .dataframe thead th {\n",
       "        text-align: right;\n",
       "    }\n",
       "</style>\n",
       "<table border=\"1\" class=\"dataframe\">\n",
       "  <thead>\n",
       "    <tr style=\"text-align: right;\">\n",
       "      <th></th>\n",
       "      <th>price</th>\n",
       "    </tr>\n",
       "    <tr>\n",
       "      <th>neighbourhood</th>\n",
       "      <th></th>\n",
       "    </tr>\n",
       "  </thead>\n",
       "  <tbody>\n",
       "    <tr>\n",
       "      <th>Prado, Parque María Luisa</th>\n",
       "      <td>202.400000</td>\n",
       "    </tr>\n",
       "    <tr>\n",
       "      <th>Arenal</th>\n",
       "      <td>186.486200</td>\n",
       "    </tr>\n",
       "    <tr>\n",
       "      <th>Parque Alcosa</th>\n",
       "      <td>163.333333</td>\n",
       "    </tr>\n",
       "    <tr>\n",
       "      <th>Santa Cruz</th>\n",
       "      <td>160.206522</td>\n",
       "    </tr>\n",
       "    <tr>\n",
       "      <th>Museo</th>\n",
       "      <td>151.202381</td>\n",
       "    </tr>\n",
       "    <tr>\n",
       "      <th>El Porvenir</th>\n",
       "      <td>141.947368</td>\n",
       "    </tr>\n",
       "    <tr>\n",
       "      <th>Alfalfa</th>\n",
       "      <td>134.263393</td>\n",
       "    </tr>\n",
       "    <tr>\n",
       "      <th>Encarnación, Regina</th>\n",
       "      <td>122.750663</td>\n",
       "    </tr>\n",
       "    <tr>\n",
       "      <th>San Bartolomé</th>\n",
       "      <td>109.274232</td>\n",
       "    </tr>\n",
       "    <tr>\n",
       "      <th>Heliópolis</th>\n",
       "      <td>107.400000</td>\n",
       "    </tr>\n",
       "  </tbody>\n",
       "</table>\n",
       "</div>"
      ],
      "text/plain": [
       "                                price\n",
       "neighbourhood                        \n",
       "Prado, Parque María Luisa  202.400000\n",
       "Arenal                     186.486200\n",
       "Parque Alcosa              163.333333\n",
       "Santa Cruz                 160.206522\n",
       "Museo                      151.202381\n",
       "El Porvenir                141.947368\n",
       "Alfalfa                    134.263393\n",
       "Encarnación, Regina        122.750663\n",
       "San Bartolomé              109.274232\n",
       "Heliópolis                 107.400000"
      ]
     },
     "execution_count": 20,
     "metadata": {},
     "output_type": "execute_result"
    }
   ],
   "source": [
    "price_by_nei = price_df.groupby('neighbourhood').mean().sort_values('price', ascending=False)[:10]\n",
    "price_by_nei"
   ]
  },
  {
   "cell_type": "code",
   "execution_count": 21,
   "metadata": {},
   "outputs": [
    {
     "data": {
      "text/html": [
       "<div>\n",
       "<style scoped>\n",
       "    .dataframe tbody tr th:only-of-type {\n",
       "        vertical-align: middle;\n",
       "    }\n",
       "\n",
       "    .dataframe tbody tr th {\n",
       "        vertical-align: top;\n",
       "    }\n",
       "\n",
       "    .dataframe thead th {\n",
       "        text-align: right;\n",
       "    }\n",
       "</style>\n",
       "<table border=\"1\" class=\"dataframe\">\n",
       "  <thead>\n",
       "    <tr style=\"text-align: right;\">\n",
       "      <th></th>\n",
       "      <th>neighbourhood</th>\n",
       "      <th>price</th>\n",
       "    </tr>\n",
       "  </thead>\n",
       "  <tbody>\n",
       "    <tr>\n",
       "      <th>752</th>\n",
       "      <td>Parque Alcosa</td>\n",
       "      <td>120</td>\n",
       "    </tr>\n",
       "    <tr>\n",
       "      <th>3531</th>\n",
       "      <td>Parque Alcosa</td>\n",
       "      <td>70</td>\n",
       "    </tr>\n",
       "    <tr>\n",
       "      <th>5552</th>\n",
       "      <td>Parque Alcosa</td>\n",
       "      <td>300</td>\n",
       "    </tr>\n",
       "  </tbody>\n",
       "</table>\n",
       "</div>"
      ],
      "text/plain": [
       "      neighbourhood  price\n",
       "752   Parque Alcosa    120\n",
       "3531  Parque Alcosa     70\n",
       "5552  Parque Alcosa    300"
      ]
     },
     "execution_count": 21,
     "metadata": {},
     "output_type": "execute_result"
    }
   ],
   "source": [
    "# Analysis 'Parque Alcosa'\n",
    "price_df[price_df['neighbourhood']=='Parque Alcosa']"
   ]
  },
  {
   "cell_type": "markdown",
   "metadata": {},
   "source": [
    "There are only three apartments in Parque Alcosa and one of them have a very high price that do the mean price very high. We can manage Parque Alcosa as an outlier so I'm going to drop it"
   ]
  },
  {
   "cell_type": "code",
   "execution_count": 17,
   "metadata": {},
   "outputs": [],
   "source": [
    "price_df.drop(price_df[price_df['neighbourhood']=='Parque Alcosa'].index, inplace=True)"
   ]
  },
  {
   "cell_type": "markdown",
   "metadata": {},
   "source": [
    "Finally we have the cleaned table and its corresponding plot"
   ]
  },
  {
   "cell_type": "code",
   "execution_count": 18,
   "metadata": {},
   "outputs": [
    {
     "data": {
      "text/html": [
       "<div>\n",
       "<style scoped>\n",
       "    .dataframe tbody tr th:only-of-type {\n",
       "        vertical-align: middle;\n",
       "    }\n",
       "\n",
       "    .dataframe tbody tr th {\n",
       "        vertical-align: top;\n",
       "    }\n",
       "\n",
       "    .dataframe thead th {\n",
       "        text-align: right;\n",
       "    }\n",
       "</style>\n",
       "<table border=\"1\" class=\"dataframe\">\n",
       "  <thead>\n",
       "    <tr style=\"text-align: right;\">\n",
       "      <th></th>\n",
       "      <th>price</th>\n",
       "    </tr>\n",
       "    <tr>\n",
       "      <th>neighbourhood</th>\n",
       "      <th></th>\n",
       "    </tr>\n",
       "  </thead>\n",
       "  <tbody>\n",
       "    <tr>\n",
       "      <th>Prado, Parque María Luisa</th>\n",
       "      <td>202.400000</td>\n",
       "    </tr>\n",
       "    <tr>\n",
       "      <th>Arenal</th>\n",
       "      <td>186.486200</td>\n",
       "    </tr>\n",
       "    <tr>\n",
       "      <th>Santa Cruz</th>\n",
       "      <td>160.206522</td>\n",
       "    </tr>\n",
       "    <tr>\n",
       "      <th>Museo</th>\n",
       "      <td>151.202381</td>\n",
       "    </tr>\n",
       "    <tr>\n",
       "      <th>El Porvenir</th>\n",
       "      <td>141.947368</td>\n",
       "    </tr>\n",
       "    <tr>\n",
       "      <th>Alfalfa</th>\n",
       "      <td>134.263393</td>\n",
       "    </tr>\n",
       "    <tr>\n",
       "      <th>Encarnación, Regina</th>\n",
       "      <td>122.750663</td>\n",
       "    </tr>\n",
       "    <tr>\n",
       "      <th>San Bartolomé</th>\n",
       "      <td>109.274232</td>\n",
       "    </tr>\n",
       "    <tr>\n",
       "      <th>Heliópolis</th>\n",
       "      <td>107.400000</td>\n",
       "    </tr>\n",
       "    <tr>\n",
       "      <th>Doctor Barraquer, G. Renfe, Policlínico</th>\n",
       "      <td>106.558824</td>\n",
       "    </tr>\n",
       "  </tbody>\n",
       "</table>\n",
       "</div>"
      ],
      "text/plain": [
       "                                              price\n",
       "neighbourhood                                      \n",
       "Prado, Parque María Luisa                202.400000\n",
       "Arenal                                   186.486200\n",
       "Santa Cruz                               160.206522\n",
       "Museo                                    151.202381\n",
       "El Porvenir                              141.947368\n",
       "Alfalfa                                  134.263393\n",
       "Encarnación, Regina                      122.750663\n",
       "San Bartolomé                            109.274232\n",
       "Heliópolis                               107.400000\n",
       "Doctor Barraquer, G. Renfe, Policlínico  106.558824"
      ]
     },
     "execution_count": 18,
     "metadata": {},
     "output_type": "execute_result"
    }
   ],
   "source": [
    "price_by_nei = price_df.groupby('neighbourhood').mean().sort_values('price', ascending=False)[:10]\n",
    "price_by_nei"
   ]
  },
  {
   "cell_type": "code",
   "execution_count": 21,
   "metadata": {},
   "outputs": [
    {
     "data": {
      "image/png": "[encoded data removed]",
      "text/plain": [
       "<Figure size 432x288 with 1 Axes>"
      ]
     },
     "metadata": {
      "needs_background": "light"
     },
     "output_type": "display_data"
    }
   ],
   "source": [
    "# Barplot: mean price by neighbourhood\n",
    "x2=price_by_nei.index\n",
    "y2=price_by_nei.price\n",
    "plt.title('Mean price by neighbourhood')\n",
    "ax2 = sns.barplot(x2, y2, palette='Blues_r')\n",
    "ax2.set_xticklabels(labels=x2, rotation=80);"
   ]
  },
  {
   "cell_type": "markdown",
   "metadata": {},
   "source": [
    "Let' explore the data to answer the third question:\n",
    "####  3. How many Airbnb apartments are there inside the area (1000m) around principal monuments?\n",
    "This is a more tricky question to analyse because we have to set the monument latitude and longitude and do a projection of the circular area around with a geo analysis approach with the 'pyproj' module and with the classes 'Point' and 'Polygon' from 'shapely' module\n",
    "\n",
    "Firstly I have created a function to manage all this geo analysis transformations and I count the number of apartments inside the monument areas"
   ]
  },
  {
   "cell_type": "code",
   "execution_count": 23,
   "metadata": {},
   "outputs": [],
   "source": [
    "def monument_area(coordinates_monument):\n",
    "    # load data\n",
    "    df = pd.read_csv('listings_summary.csv')\n",
    "    # circular area of 1000m around Monument\n",
    "    # Thanks to: https://gis.stackexchange.com/questions/252299/buffer-does-not-intersect-or-contain-the-point-used-for-the-center-of-the-buffer\n",
    "    \n",
    "    # Setting projection parameters\n",
    "    srcProj = pyproj.Proj(init='EPSG:4326')\n",
    "    dstProj = pyproj.Proj(init='EPSG:5070')\n",
    "    # Coordinates of monument\n",
    "    pt1 = coordinates_monument\n",
    "    # Doing the projections\n",
    "    x, y = pyproj.transform(srcProj, dstProj, pt1[0], pt1[1])\n",
    "\n",
    "    pt = Point(x,y)\n",
    "    # setting the distance to 1000m\n",
    "    buffer = pt.buffer(1000)\n",
    "\n",
    "    buffer_points =  zip(buffer.exterior.coords.xy[0], buffer.exterior.coords.xy[1])\n",
    "\n",
    "    proj_buffer_points = []\n",
    "\n",
    "    for point in buffer_points:\n",
    "        x = point[0]\n",
    "        y = point[1]\n",
    "        x, y = pyproj.transform(dstProj, srcProj, x, y)\n",
    "        proj_buffer_points.append((x,y))\n",
    "                               \n",
    "    Polygon(proj_buffer_points)\n",
    "\n",
    "    # grouping latitude and longitude\n",
    "    coordinates = zip(df['latitude'][:], df['longitude'][:])\n",
    "    list_coord = list(coordinates)\n",
    "    # Apartment counter\n",
    "    count_apartment = 0 \n",
    "    for i in list_coord:\n",
    "        if Polygon(proj_buffer_points).contains(Point(i)):\n",
    "            count_apartment += 1 \n",
    "        \n",
    "    return count_apartment"
   ]
  },
  {
   "cell_type": "markdown",
   "metadata": {},
   "source": [
    "Now I'm going to set the coordinates of the monuments"
   ]
  },
  {
   "cell_type": "code",
   "execution_count": 24,
   "metadata": {},
   "outputs": [],
   "source": [
    "# Coordinates of 'Plaza de España'\n",
    "# Source: Google maps\n",
    "esp_coord = (37.377105, -5.986900)\n",
    "# Coordinates of 'Barrio de Santa Cruz'\n",
    "cruz_coord = (37.385219, -5.988439)\n",
    "# Coordinates of 'Catedral'\n",
    "catedral_coord = (37.385747, -5.993056)\n",
    "# Coordinates of 'Alcazar'\n",
    "alcazar_coord = (37.383897, -5.991585)\n",
    "# Coordinates of 'Metropol parasol, Setas' \n",
    "setas_coord = (37.393296, -5.991824)"
   ]
  },
  {
   "cell_type": "markdown",
   "metadata": {},
   "source": [
    "Finally I use the monument_area function to get the results"
   ]
  },
  {
   "cell_type": "code",
   "execution_count": 28,
   "metadata": {},
   "outputs": [
    {
     "name": "stdout",
     "output_type": "stream",
     "text": [
      "\n",
      "Number of apartments in 1000m around Plaza de España is 188\n",
      "\n",
      "Number of apartments in 1000m around Barrio de Santa Cruz is 1997\n",
      "\n",
      "Number of apartments in 1000m around Catedral is 2539\n",
      "\n",
      "Number of apartments in 1000m around Alcazar is 2006\n",
      "\n",
      "Number of apartments in 1000m around Setas is 3482\n"
     ]
    }
   ],
   "source": [
    "print('\\nNumber of apartments in 1000m around Plaza de España is {}'.format(monument_area(esp_coord)))\n",
    "print('\\nNumber of apartments in 1000m around Barrio de Santa Cruz is {}'.format(monument_area(cruz_coord)))\n",
    "print('\\nNumber of apartments in 1000m around Catedral is {}'.format(monument_area(catedral_coord)))\n",
    "print('\\nNumber of apartments in 1000m around Alcazar is {}'.format(monument_area(alcazar_coord)))\n",
    "print('\\nNumber of apartments in 1000m around Setas is {}'.format(monument_area(setas_coord)))"
   ]
  },
  {
   "cell_type": "code",
   "execution_count": 29,
   "metadata": {},
   "outputs": [
    {
     "data": {
      "text/html": [
       "<div>\n",
       "<style scoped>\n",
       "    .dataframe tbody tr th:only-of-type {\n",
       "        vertical-align: middle;\n",
       "    }\n",
       "\n",
       "    .dataframe tbody tr th {\n",
       "        vertical-align: top;\n",
       "    }\n",
       "\n",
       "    .dataframe thead th {\n",
       "        text-align: right;\n",
       "    }\n",
       "</style>\n",
       "<table border=\"1\" class=\"dataframe\">\n",
       "  <thead>\n",
       "    <tr style=\"text-align: right;\">\n",
       "      <th></th>\n",
       "      <th>Monument</th>\n",
       "      <th>Number of apartments</th>\n",
       "    </tr>\n",
       "  </thead>\n",
       "  <tbody>\n",
       "    <tr>\n",
       "      <th>0</th>\n",
       "      <td>Plaza de España</td>\n",
       "      <td>188</td>\n",
       "    </tr>\n",
       "    <tr>\n",
       "      <th>1</th>\n",
       "      <td>Santa Cruz</td>\n",
       "      <td>1997</td>\n",
       "    </tr>\n",
       "    <tr>\n",
       "      <th>2</th>\n",
       "      <td>Catedral</td>\n",
       "      <td>2539</td>\n",
       "    </tr>\n",
       "    <tr>\n",
       "      <th>3</th>\n",
       "      <td>Alcazar</td>\n",
       "      <td>2006</td>\n",
       "    </tr>\n",
       "    <tr>\n",
       "      <th>4</th>\n",
       "      <td>Setas</td>\n",
       "      <td>3482</td>\n",
       "    </tr>\n",
       "  </tbody>\n",
       "</table>\n",
       "</div>"
      ],
      "text/plain": [
       "          Monument  Number of apartments\n",
       "0  Plaza de España                   188\n",
       "1       Santa Cruz                  1997\n",
       "2         Catedral                  2539\n",
       "3          Alcazar                  2006\n",
       "4            Setas                  3482"
      ]
     },
     "execution_count": 29,
     "metadata": {},
     "output_type": "execute_result"
    }
   ],
   "source": [
    "data = {'Monument': ['Plaza de España','Santa Cruz', 'Catedral', 'Alcazar','Setas'],\n",
    "        'Number of apartments': [188, 1997, 2539, 2006, 3482]\n",
    "       }\n",
    "       \n",
    "monument_area_df = pd.DataFrame(data=data)\n",
    "monument_area_df"
   ]
  },
  {
   "cell_type": "code",
   "execution_count": 30,
   "metadata": {},
   "outputs": [
    {
     "data": {
      "image/png": "[encoded data removed]",
      "text/plain": [
       "<Figure size 432x288 with 1 Axes>"
      ]
     },
     "metadata": {
      "needs_background": "light"
     },
     "output_type": "display_data"
    }
   ],
   "source": [
    "x5 = monument_area_df['Monument']\n",
    "y5 = monument_area_df['Number of apartments']\n",
    "plt.title('Number of apartments 1000m around Monuments')\n",
    "ax5 = sns.barplot(x=x5, y=y5)\n",
    "ax5.set_xticklabels(labels=x5,rotation=10);"
   ]
  },
  {
   "cell_type": "code",
   "execution_count": null,
   "metadata": {},
   "outputs": [],
   "source": []
  },
  {
   "cell_type": "code",
   "execution_count": null,
   "metadata": {},
   "outputs": [],
   "source": []
  }
 ],
 "metadata": {
  "kernelspec": {
   "display_name": "Python 3",
   "language": "python",
   "name": "python3"
  },
  "language_info": {
   "codemirror_mode": {
    "name": "ipython",
    "version": 3
   },
   "file_extension": ".py",
   "mimetype": "text/x-python",
   "name": "python",
   "nbconvert_exporter": "python",
   "pygments_lexer": "ipython3",
   "version": "3.7.4"
  }
 },
 "nbformat": 4,
 "nbformat_minor": 2
}
